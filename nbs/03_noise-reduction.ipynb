{
 "cells": [
  {
   "cell_type": "markdown",
   "metadata": {},
   "source": [
    "# Noise Reduction with U-Net\n",
    "\n",
    "In `01_preprocessing.ipynb` the images were normalized by resampling to a uniform size, clipping of very high intensities and removing field bias. Not only do these steps take up a lot of time (especially field bias removal), they also leave some noise and variation on the image data. This makes it hard to fit 3D CNNs on the data. Our aproach is therefore to use a U-Net to further presprocess the images. Here the original, not the already preprocessed images, are used as input and the preprocessed images are used as targets. "
   ]
  },
  {
   "cell_type": "code",
   "execution_count": null,
   "metadata": {},
   "outputs": [],
   "source": [
    "import SimpleITK as sitk\n",
    "sitk.ProcessObject_SetGlobalDefaultNumberOfThreads(1)"
   ]
  },
  {
   "cell_type": "code",
   "execution_count": null,
   "metadata": {},
   "outputs": [],
   "source": [
    "import sys\n",
    "sys.path.append('..')\n",
    "\n",
    "from fastai.callback.all import SaveModelCallback\n",
    "\n",
    "import faimed3d\n",
    "from faimed3d.all import *\n",
    "from faimed3d.models.unet import _get_sz_change_idxs\n",
    "from faimed3d.augment import _get_margins, _add_to_margin\n",
    "from libs.utils import *\n",
    "from libs.augment import *"
   ]
  },
  {
   "cell_type": "markdown",
   "metadata": {},
   "source": [
    "## Construct DataLoader"
   ]
  },
  {
   "cell_type": "code",
   "execution_count": null,
   "metadata": {},
   "outputs": [],
   "source": [
    "train = False\n",
    "inference = True\n",
    "sequence = 'T1'\n",
    "model_type = 'resnet18_3d'\n",
    "model_fun = getattr(faimed3d.all, model_type)\n",
    "model_name = f'denoising_unet_{model_type}_{sequence}'"
   ]
  },
  {
   "cell_type": "code",
   "execution_count": null,
   "metadata": {},
   "outputs": [],
   "source": [
    "df = get_dataframe(preprocessed_images=False)\n",
    "df2 = get_dataframe()"
   ]
  },
  {
   "cell_type": "code",
   "execution_count": null,
   "metadata": {},
   "outputs": [],
   "source": [
    "df['preprocessed_TIRM'] = df2.TIRM\n",
    "df['preprocessed_T1'] = df2.T1\n",
    "df['TIRM'] = [fn.replace('../data/', '') for fn in df.TIRM]\n",
    "df['T1'] = [fn.replace('../data/', '') for fn in df.T1]\n",
    "DATA_DIR = Path('/media/ScaleOut/vahldiek/MRI/SIJ/')"
   ]
  },
  {
   "cell_type": "code",
   "execution_count": null,
   "metadata": {},
   "outputs": [],
   "source": [
    "@Transform\n",
    "def ScaleAndUnsequeeze(x:(TensorDicom3D, TensorMask3D)):\n",
    "    x = x.float()\n",
    "    x = (x - x.mean()) / x.std()\n",
    "    return x.unsqueeze(1)"
   ]
  },
  {
   "cell_type": "code",
   "execution_count": null,
   "metadata": {},
   "outputs": [],
   "source": [
    "dblock = DataBlock(blocks = (ImageBlock3D, ImageBlock3D(cls=TensorMask3D)), \n",
    "                    getters = [lambda x: DATA_DIR/x[sequence], lambda x: DATA_DIR/x[f'preprocessed_{sequence}']], \n",
    "                    item_tfms = [Resample3D((20, 224, 224), (3.5, 1, 1)), *TioTransforms(0.3), Resize3D((20,192,192)), RandomNoise3D(p=0.25)], \n",
    "                    batch_tfms=  ScaleAndUnsequeeze,\n",
    "                    splitter = ColSplitter('is_valid')\n",
    "                   )\n",
    "dls = dblock.dataloaders(df, bs = 1)"
   ]
  },
  {
   "cell_type": "code",
   "execution_count": null,
   "metadata": {},
   "outputs": [],
   "source": [
    "def get_model(**kwargs): \n",
    "    model = model_fun(**kwargs)\n",
    "    model.stem[0] = nn.Conv3d(3, 32, kernel_size=3, stride = 1, padding = 0)\n",
    "    return model"
   ]
  },
  {
   "cell_type": "code",
   "execution_count": null,
   "metadata": {},
   "outputs": [],
   "source": [
    "learn = unet_learner_3d(dls, \n",
    "                        get_model, \n",
    "                        model_dir = '/home/bressekk/Documents/deep-spa-mri/models/',\n",
    "                        cbs=SaveModelCallback(fname=model_name, with_opt=True), \n",
    "                        loss_func=MSELossFlat(), \n",
    "                        n_out = 1).to_fp16()\n",
    "learn.unfreeze()"
   ]
  },
  {
   "cell_type": "code",
   "execution_count": null,
   "metadata": {},
   "outputs": [],
   "source": [
    "# cuda\n",
    "if train: \n",
    "    learn.fit_one_cycle(5, 1e-3, wd = 1e-2)"
   ]
  },
  {
   "cell_type": "code",
   "execution_count": null,
   "metadata": {},
   "outputs": [],
   "source": [
    "if train: \n",
    "    learn.recorder.plot_loss(skip_start=100)"
   ]
  },
  {
   "cell_type": "code",
   "execution_count": null,
   "metadata": {},
   "outputs": [],
   "source": [
    "learn = learn.load(model_name)"
   ]
  },
  {
   "cell_type": "markdown",
   "metadata": {},
   "source": [
    "The model can now be used to denoise images of above specified `sequence`. "
   ]
  },
  {
   "cell_type": "code",
   "execution_count": null,
   "metadata": {},
   "outputs": [],
   "source": []
  }
 ],
 "metadata": {
  "kernelspec": {
   "display_name": "faimed3d",
   "language": "python",
   "name": "faimed3d"
  },
  "language_info": {
   "codemirror_mode": {
    "name": "ipython",
    "version": 3
   },
   "file_extension": ".py",
   "mimetype": "text/x-python",
   "name": "python",
   "nbconvert_exporter": "python",
   "pygments_lexer": "ipython3",
   "version": "3.7.10"
  }
 },
 "nbformat": 4,
 "nbformat_minor": 5
}
