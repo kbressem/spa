{
 "cells": [
  {
   "cell_type": "markdown",
   "metadata": {},
   "source": [
    "# Utils"
   ]
  },
  {
   "cell_type": "code",
   "execution_count": 2,
   "metadata": {},
   "outputs": [],
   "source": [
    "# default_exp utils\n",
    "# export\n",
    "import pandas as pd\n",
    "from pathlib import Path"
   ]
  },
  {
   "cell_type": "markdown",
   "metadata": {},
   "source": [
    "## Get Data Functions\n",
    "> wrapper functions to load dataframes more convieniently"
   ]
  },
  {
   "cell_type": "code",
   "execution_count": 4,
   "metadata": {},
   "outputs": [],
   "source": [
    "# export \n",
    "def get_dataframe(fn = 'dataset_training_477.csv', \n",
    "                  DATA_DIR=Path('/media/ScaleOut/vahldiek/MRI/SIJ'), \n",
    "                  preprocessed_images=True, \n",
    "                  grid_view=False, \n",
    "                  denoised = False):\n",
    "    \"Returns the dataframe with correct filenames for MRI-SpA project\"\n",
    "    \n",
    "    df = pd.read_csv(DATA_DIR/fn)\n",
    "    df = df[df.has_TIRM == 1]\n",
    "    df = df[df.has_T1 == 1]\n",
    "    df = df.rename(columns={'path_TIRM': 'TIRM', \n",
    "                            'path_T1': 'T1', \n",
    "                            'ASAS_compatible_changes': 'asas_compatible_changes'})\n",
    "\n",
    "    if preprocessed_images: \n",
    "        df['TIRM'] = ['01_preprocessed/' + fn + '_TIRM.nii.gz' for fn in df.patient_ID]\n",
    "        df['T1'] = ['01_preprocessed/' + fn + '_T1.nii.gz' for fn in df.patient_ID]\n",
    "    \n",
    "    if denoised:\n",
    "        df['TIRM'] = ['05_denoised/' + fn + '_TIRM.nii.gz' for fn in df.patient_ID]\n",
    "        df['T1'] = ['05_denoised/' + fn + '_T1.nii.gz' for fn in df.patient_ID]\n",
    "        \n",
    "    if grid_view:\n",
    "        df['TIRM'] = ['03_grid_view/' + fn + '_TIRM.png' for fn in df.patient_ID]\n",
    "        df['T1'] = ['03_grid_view/' + fn + '_T1.png' for fn in df.patient_ID]\n",
    "        \n",
    "    df['asas_compatible_changes'] = ['asas_compatible_changes' if x == '1' else 'no_asas_compatible_changes' for x in df.asas_compatible_changes]     \n",
    "    df['active_changes'] = ['active_changes' if x == 1 else 'no_active_changes' for x in df.active_changes]\n",
    "    df['structural_changes'] = ['structural_changes' if x == 1 else 'no_structural_changes' for x in df.structural_changes]\n",
    "    combined_label = []\n",
    "    for act, struc in zip(df.active_changes, df.structural_changes):\n",
    "        if 'no' in act: act = ''\n",
    "        if 'no' in struc: struc = ''\n",
    "        delim = ';' if act != '' and struc != '' else ''\n",
    "        combined_label.append(act + delim + struc)\n",
    "    df['combined_label'] = combined_label\n",
    "    \n",
    "    return df"
   ]
  },
  {
   "cell_type": "code",
   "execution_count": 5,
   "metadata": {},
   "outputs": [],
   "source": [
    "df = get_dataframe()"
   ]
  },
  {
   "cell_type": "code",
   "execution_count": 6,
   "metadata": {},
   "outputs": [],
   "source": [
    "# export \n",
    "def get_test_dataframe(DATA_DIR=Path('/media/ScaleOut/vahldiek/MRI/SIJ'), \n",
    "                       preprocessed_images=True, \n",
    "                       grid_view=False, \n",
    "                       denoised=False):\n",
    "    \"Returns the test dataframe with correct filenames for MRI-SpA project\"\n",
    "    \n",
    "    df = pd.read_csv(DATA_DIR/'ASAS_holdout_130_with_asas.csv')\n",
    "    df = df[df.has_TIRM == 1]\n",
    "    df = df[df.has_T1 == 1]\n",
    "    df = df.rename(columns={'struct_changes': 'structural_changes', \n",
    "                            'path_TIRM': 'TIRM', \n",
    "                            'path_T1': 'T1', \n",
    "                            'ASAS_compatible_changes': 'asas_compatible_changes'})\n",
    "\n",
    "    if preprocessed_images: \n",
    "        df['TIRM'] = ['01_preprocessed/' + fn + '_TIRM.nii.gz' for fn in df.patient]\n",
    "        df['T1'] = ['01_preprocessed/' + fn + '_T1.nii.gz' for fn in df.patient]\n",
    "    \n",
    "    if denoised:\n",
    "        df['TIRM'] = ['05_denoised/' + fn + '_TIRM.nii.gz' for fn in df.patient]\n",
    "        df['T1'] = ['05_denoised/' + fn + '_T1.nii.gz' for fn in df.patient]\n",
    "            \n",
    "    if grid_view:\n",
    "        df['TIRM'] = ['03_grid_view/' + fn + '_TIRM.png' for fn in df.patient]\n",
    "        df['T1'] = ['03_grid_view/' + fn + '_T1.png' for fn in df.patient]\n",
    "\n",
    "    df['active_changes'] = ['active_changes' if x == 1 else 'no_active_changes' for x in df.active_changes]    \n",
    "    df['structural_changes'] = ['structural_changes' if x == 1 else 'no_structural_changes' for x in df.structural_changes]\n",
    "    df['asas_compatible_changes'] = ['asas_compatible_changes' if x == 1 else 'no_asas_compatible_changes' for x in df.asas_compatible_changes]     \n",
    "\n",
    "    combined_label = []\n",
    "    for act, struc in zip(df.active_changes, df.structural_changes):\n",
    "        if 'no' in act: act = ''\n",
    "        if 'no' in struc: struc = ''\n",
    "        delim = ';' if act != '' and struc != '' else ''\n",
    "        combined_label.append(act + delim + struc)\n",
    "    df['combined_label'] = combined_label\n",
    "    df = df[-df.patient.isin(['Case070', 'Case043', 'Case134'])] # need to be excluded because of missing data\n",
    "    return df"
   ]
  },
  {
   "cell_type": "code",
   "execution_count": 7,
   "metadata": {},
   "outputs": [],
   "source": [
    "df = get_test_dataframe()"
   ]
  },
  {
   "cell_type": "markdown",
   "metadata": {},
   "source": [
    "### Metrics\n",
    "Add more metrics to fastai's ClassificationInterpretation class"
   ]
  },
  {
   "cell_type": "code",
   "execution_count": 8,
   "metadata": {},
   "outputs": [],
   "source": [
    "# export \n",
    "import sklearn.metrics as metrics\n",
    "import torch\n",
    "from fastcore.all import *\n",
    "from fastai.metrics import *\n",
    "from fastai.interpret import ClassificationInterpretation\n",
    "from fastai.torch_core import flatten_check"
   ]
  },
  {
   "cell_type": "code",
   "execution_count": 10,
   "metadata": {},
   "outputs": [],
   "source": [
    "# export\n",
    "@patch \n",
    "def plot_roc(self:ClassificationInterpretation):\n",
    "    \"Plot a ROC curve with AUC from decoded preds and targets\"\n",
    "    # calculate the fpr and tpr for all thresholds of the classification\n",
    "    d,t = flatten_check(self.preds[:, 1], self.targs)\n",
    "    d = d.numpy()\n",
    "    t = t.numpy()\n",
    "    fpr, tpr, threshold = metrics.roc_curve(t, d)\n",
    "    roc_auc = metrics.auc(fpr, tpr)\n",
    "\n",
    "    # method I: plt\n",
    "    import matplotlib.pyplot as plt\n",
    "    plt.title('Receiver Operating Characteristic')\n",
    "    plt.plot(fpr, tpr, 'b', label = 'AUC = %0.2f' % roc_auc)\n",
    "    plt.legend(loc = 'lower right')\n",
    "    plt.plot([0, 1], [0, 1],'r--')\n",
    "    plt.xlim([0, 1])\n",
    "    plt.ylim([0, 1])\n",
    "    plt.ylabel('True Positive Rate')\n",
    "    plt.xlabel('False Positive Rate')\n",
    "    plt.show()"
   ]
  },
  {
   "cell_type": "code",
   "execution_count": 11,
   "metadata": {},
   "outputs": [
    {
     "name": "stdout",
     "output_type": "stream",
     "text": [
      "Converted 00_utils.ipynb.\n",
      "Converted 01_preprocessing.ipynb.\n",
      "Converted 02_augment.ipynb.\n",
      "Converted 03_noise-reduction.ipynb.\n",
      "Converted 04_classification_models.ipynb.\n",
      "Converted 05_classification.ipynb.\n",
      "Converted 06_evaluation.ipynb.\n",
      "Converted 07_descriptive.ipynb.\n",
      "Converted 99_widgets.cam.ipynb.\n",
      "Converted index.ipynb.\n"
     ]
    }
   ],
   "source": [
    "# hide\n",
    "from nbdev.export import *\n",
    "notebook2script()"
   ]
  }
 ],
 "metadata": {
  "kernelspec": {
   "display_name": "faimed3d",
   "language": "python",
   "name": "faimed3d"
  },
  "language_info": {
   "codemirror_mode": {
    "name": "ipython",
    "version": 3
   },
   "file_extension": ".py",
   "mimetype": "text/x-python",
   "name": "python",
   "nbconvert_exporter": "python",
   "pygments_lexer": "ipython3",
   "version": "3.7.10"
  }
 },
 "nbformat": 4,
 "nbformat_minor": 5
}
