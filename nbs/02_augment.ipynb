{
 "cells": [
  {
   "cell_type": "markdown",
   "metadata": {},
   "source": [
    "# Image Augmentation\n",
    "> Simple wrappers around TorchIO augmentations for usuage with fastai"
   ]
  },
  {
   "cell_type": "code",
   "execution_count": 1,
   "metadata": {},
   "outputs": [],
   "source": [
    "import sys\n",
    "sys.path.append('..')"
   ]
  },
  {
   "cell_type": "code",
   "execution_count": 2,
   "metadata": {},
   "outputs": [],
   "source": [
    "# export\n",
    "# default_exp augment\n",
    "import torchio as tio\n",
    "from fastai.vision.augment import RandTransform\n",
    "from faimed3d.all import *\n",
    "\n",
    "from libs.utils import get_dataframe"
   ]
  },
  {
   "cell_type": "code",
   "execution_count": 3,
   "metadata": {},
   "outputs": [],
   "source": [
    "DATA_DIR = Path('/media/ScaleOut/vahldiek/MRI/SIJ')\n",
    "df = get_dataframe(denoised=True)\n",
    "image = TensorDicom3D.create(DATA_DIR/df.TIRM[0])"
   ]
  },
  {
   "cell_type": "code",
   "execution_count": 4,
   "metadata": {},
   "outputs": [],
   "source": [
    "# export\n",
    "class TorchIOTransform(RandTransform):\n",
    "    def __init__(self, tfm_name, p=0.2, **kwargs):\n",
    "        super().__init__(p=p)\n",
    "        self.transform = getattr(tio, tfm_name)(**kwargs)\n",
    "    \n",
    "    def encodes(self, x:TensorMask3D):\n",
    "        return x\n",
    "    \n",
    "    def encodes(self, x:TensorDicom3D):\n",
    "        assert x.device == torch.device('cpu'), \"No cuda support for torchIO transforms\"\n",
    "        meta = x._metadata\n",
    "        if x.ndim == 3: x = x.unsqueeze(0)\n",
    "        x = TensorDicom3D(self.transform(x)).squeeze()\n",
    "        x._metadata = meta\n",
    "        return x    "
   ]
  },
  {
   "cell_type": "code",
   "execution_count": 5,
   "metadata": {},
   "outputs": [],
   "source": [
    "@patch\n",
    "@delegates(BasicViewer)\n",
    "def show(x:TensorDicom3D, **kwargs):\n",
    "    BasicViewer(x, **kwargs).show()"
   ]
  },
  {
   "cell_type": "code",
   "execution_count": 6,
   "metadata": {},
   "outputs": [],
   "source": [
    "tio_tfms_list = ['RandomBiasField', 'RandomGhosting', 'RandomMotion', 'RandomGamma', 'RandomAnisotropy', 'RandomElasticDeformation']"
   ]
  },
  {
   "cell_type": "code",
   "execution_count": 7,
   "metadata": {},
   "outputs": [],
   "source": [
    "# export\n",
    "def TioTransforms(p_all=None, \n",
    "                  tfms = ['RandomBiasField', 'RandomGhosting', 'RandomMotion', \n",
    "                          'RandomGamma', 'RandomAnisotropy']):\n",
    "    if not p_all: p_all = 1/len(tfms)\n",
    "    return [TorchIOTransform(tfm_name, p=p_all) for tfm_name in tfms]"
   ]
  },
  {
   "cell_type": "code",
   "execution_count": 8,
   "metadata": {},
   "outputs": [
    {
     "name": "stderr",
     "output_type": "stream",
     "text": [
      "/home/bressekk/Documents/GitHub/torchio/torchio/transforms/augmentation/spatial/random_elastic_deformation.py:244: RuntimeWarning: The maximum displacement is larger than the coarse grid spacing for dimensions: [0], so folding may occur. Choose fewer control points or a smaller maximum displacement\n",
      "  warnings.warn(message, RuntimeWarning)\n"
     ]
    }
   ],
   "source": [
    "images = [TorchIOTransform(tfm_name, p=1)(image, split_idx = 0) for tfm_name in tio_tfms_list]"
   ]
  },
  {
   "cell_type": "code",
   "execution_count": 9,
   "metadata": {},
   "outputs": [
    {
     "data": {
      "application/vnd.jupyter.widget-view+json": {
       "model_id": "c633e9b52430407aac06296b2b205193",
       "version_major": 2,
       "version_minor": 0
      },
      "text/plain": [
       "VBox(children=(HBox(children=(VBox(children=(Label(value='RandomBiasField', layout=Layout(display='flex', just…"
      ]
     },
     "metadata": {},
     "output_type": "display_data"
    }
   ],
   "source": [
    "ListViewer(images, tio_tfms_list).show()"
   ]
  },
  {
   "cell_type": "code",
   "execution_count": 10,
   "metadata": {},
   "outputs": [],
   "source": [
    "# export\n",
    "class TioRandomBiasField(TorchIOTransform):\n",
    "    def __init__(self, **kwargs):\n",
    "        super().__init__(tfm_name = 'RandomBiasField', **kwargs)\n",
    "        \n",
    "class TioRandomGhosting(TorchIOTransform):\n",
    "    def __init__(self, **kwargs):\n",
    "        super().__init__(tfm_name = 'RandomGhosting', **kwargs)\n",
    "               \n",
    "class TioRandomMotion(TorchIOTransform):\n",
    "    def __init__(self, **kwargs):\n",
    "        super().__init__(tfm_name = 'RandomMotion', **kwargs)\n",
    "        \n",
    "class TioRandomGamma(TorchIOTransform):\n",
    "    def __init__(self, **kwargs):\n",
    "        super().__init__(tfm_name = 'RandomGamma', **kwargs)\n",
    "        \n",
    "class TioRandomAnisotropy(TorchIOTransform):\n",
    "    def __init__(self, **kwargs):\n",
    "        super().__init__(tfm_name = 'RandomAnisotropy', **kwargs)\n",
    "        \n",
    "class TioRandomElasticDeformation(TorchIOTransform):\n",
    "    def __init__(self, **kwargs):\n",
    "        super().__init__(tfm_name = 'RandomElasticDeformation', **kwargs)"
   ]
  },
  {
   "cell_type": "code",
   "execution_count": null,
   "metadata": {},
   "outputs": [],
   "source": [
    "TioRandomElasticDeformation()"
   ]
  },
  {
   "cell_type": "code",
   "execution_count": 11,
   "metadata": {},
   "outputs": [
    {
     "name": "stdout",
     "output_type": "stream",
     "text": [
      "Converted 00_utils.ipynb.\n",
      "Converted 01_preprocessing.ipynb.\n",
      "Converted 02_augment.ipynb.\n",
      "Converted 03_noise-reduction-network.ipynb.\n",
      "Converted 04_3d_classification.ipynb.\n",
      "Converted 05_evaluation.ipynb.\n",
      "Converted 99_widgets.cam.ipynb.\n",
      "Converted index.ipynb.\n"
     ]
    }
   ],
   "source": [
    "# hide\n",
    "from nbdev.export import *\n",
    "notebook2script()"
   ]
  },
  {
   "cell_type": "code",
   "execution_count": null,
   "metadata": {},
   "outputs": [],
   "source": []
  }
 ],
 "metadata": {
  "kernelspec": {
   "display_name": "faimed3d",
   "language": "python",
   "name": "faimed3d"
  },
  "language_info": {
   "codemirror_mode": {
    "name": "ipython",
    "version": 3
   },
   "file_extension": ".py",
   "mimetype": "text/x-python",
   "name": "python",
   "nbconvert_exporter": "python",
   "pygments_lexer": "ipython3",
   "version": "3.7.10"
  }
 },
 "nbformat": 4,
 "nbformat_minor": 5
}
