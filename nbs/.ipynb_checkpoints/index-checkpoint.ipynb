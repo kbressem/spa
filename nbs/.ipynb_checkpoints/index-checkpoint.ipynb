{
 "cells": [
  {
   "cell_type": "code",
   "execution_count": null,
   "metadata": {},
   "outputs": [],
   "source": [
    "#hide\n",
    "import sys\n",
    "sys.path.append('..')\n",
    "from libs.core import *"
   ]
  },
  {
   "cell_type": "markdown",
   "metadata": {},
   "source": [
    "# Robust detection of sacroiliitis on biparametric magnetic resonance imaging using a deep neural network\n",
    "\n",
    "This is the official implementation of the paper \"Robust detection of sacroiliitis on biparametric magnetic resonance imaging using a deep neural network\" by Keno Bressem et al. "
   ]
  },
  {
   "cell_type": "markdown",
   "metadata": {},
   "source": [
    "## Prerequisites\n",
    "We use our own, openly available library `faimed3d` to build and train neural networks on medical data. `faimed3d` can be installed directly from GitHub with `pip install git+github.com/kbressem/faimed3d`. Alternatively one can also clone the repository and create a symbolic link to the `faimed3d` libs.   \n",
    "This project is implemented using [`nbdev`](https://nbdev.fast.ai/), a true literate programming environment. "
   ]
  },
  {
   "cell_type": "code",
   "execution_count": null,
   "metadata": {},
   "outputs": [],
   "source": []
  }
 ],
 "metadata": {
  "kernelspec": {
   "display_name": "Python 3",
   "language": "python",
   "name": "python3"
  },
  "language_info": {
   "codemirror_mode": {
    "name": "ipython",
    "version": 3
   },
   "file_extension": ".py",
   "mimetype": "text/x-python",
   "name": "python",
   "nbconvert_exporter": "python",
   "pygments_lexer": "ipython3",
   "version": "3.6.9"
  }
 },
 "nbformat": 4,
 "nbformat_minor": 4
}
