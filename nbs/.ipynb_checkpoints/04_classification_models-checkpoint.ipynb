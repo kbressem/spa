{
 "cells": [
  {
   "cell_type": "markdown",
   "metadata": {},
   "source": [
    "# Classification Model"
   ]
  },
  {
   "cell_type": "code",
   "execution_count": 1,
   "metadata": {},
   "outputs": [],
   "source": [
    "# export\n",
    "# default_exp models\n",
    "import sys\n",
    "sys.path.append('..')\n",
    "from fastai.basics import *\n",
    "from fastai.layers import *\n",
    "from fastai.vision.learner import create_body as create_body_2d\n",
    "\n",
    "from faimed3d.learner import create_head, create_body, create_cnn_model_3d\n",
    "from faimed3d.layers import AdaptiveConcatPool3d"
   ]
  },
  {
   "cell_type": "code",
   "execution_count": 2,
   "metadata": {},
   "outputs": [],
   "source": [
    "from faimed3d.models.resnet import resnet18_3d"
   ]
  },
  {
   "cell_type": "code",
   "execution_count": 3,
   "metadata": {
    "tags": []
   },
   "outputs": [],
   "source": [
    "# export \n",
    "class SequentialModel(Module):\n",
    "    def __init__(self, model):\n",
    "        \n",
    "        self.body = nn.Sequential( \n",
    "            model[0], \n",
    "            nn.AdaptiveMaxPool3d(1), \n",
    "        )\n",
    "        self.head = nn.Sequential(\n",
    "            AdaptiveConcatPool3d(1),            \n",
    "            model[1][1:])\n",
    "        \n",
    "    def forward(self, x):\n",
    "        features = [self.body(_x.unsqueeze(1)) for _x in torch.unbind(x, 1)]\n",
    "        features = torch.cat(features, 2)\n",
    "        return self.head(features)"
   ]
  },
  {
   "cell_type": "code",
   "execution_count": 4,
   "metadata": {},
   "outputs": [
    {
     "data": {
      "text/plain": [
       "torch.Size([2, 2])"
      ]
     },
     "execution_count": 4,
     "metadata": {},
     "output_type": "execute_result"
    }
   ],
   "source": [
    "m = create_cnn_model_3d(resnet18_3d, n_in = 1, n_out = 2)\n",
    "m = SequentialModel(m)\n",
    "m(torch.randn(2,2,1,16,16)).shape"
   ]
  },
  {
   "cell_type": "code",
   "execution_count": 5,
   "metadata": {},
   "outputs": [
    {
     "name": "stdout",
     "output_type": "stream",
     "text": [
      "Converted 00_utils.ipynb.\n",
      "Converted 01_preprocessing.ipynb.\n",
      "Converted 02_augment.ipynb.\n",
      "Converted 03_noise-reduction.ipynb.\n",
      "Converted 04_classification_models.ipynb.\n",
      "Converted 05_classification.ipynb.\n",
      "Converted index.ipynb.\n"
     ]
    }
   ],
   "source": [
    "# hide\n",
    "from nbdev.export import *\n",
    "notebook2script()"
   ]
  },
  {
   "cell_type": "code",
   "execution_count": null,
   "metadata": {},
   "outputs": [],
   "source": []
  }
 ],
 "metadata": {
  "kernelspec": {
   "display_name": "faimed3d",
   "language": "python",
   "name": "faimed3d"
  },
  "language_info": {
   "codemirror_mode": {
    "name": "ipython",
    "version": 3
   },
   "file_extension": ".py",
   "mimetype": "text/x-python",
   "name": "python",
   "nbconvert_exporter": "python",
   "pygments_lexer": "ipython3",
   "version": "3.7.10"
  }
 },
 "nbformat": 4,
 "nbformat_minor": 5
}
