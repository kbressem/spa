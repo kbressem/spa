{
 "cells": [
  {
   "cell_type": "markdown",
   "metadata": {},
   "source": [
    "# 3D Image Classification"
   ]
  },
  {
   "cell_type": "code",
   "execution_count": 1,
   "metadata": {},
   "outputs": [],
   "source": [
    "import SimpleITK as sitk\n",
    "sitk.ProcessObject_SetGlobalDefaultNumberOfThreads(1)"
   ]
  },
  {
   "cell_type": "code",
   "execution_count": 2,
   "metadata": {
    "tags": []
   },
   "outputs": [],
   "source": [
    "import sys\n",
    "sys.path.append('..')\n",
    "\n",
    "from fastai.callback.all import *\n",
    "from fastai.distributed import *\n",
    "import faimed3d\n",
    "from faimed3d.all import *\n",
    "from libs.utils import *\n",
    "from libs.augment import *\n",
    "from libs.models import *"
   ]
  },
  {
   "cell_type": "markdown",
   "metadata": {},
   "source": [
    "## Hyperparams"
   ]
  },
  {
   "cell_type": "code",
   "execution_count": 3,
   "metadata": {},
   "outputs": [],
   "source": [
    "model_type = 'resnet101_3d'\n",
    "sequence = ['T1', 'TIRM']\n",
    "label = 'active_changes'\n",
    "DATA_DIR = Path('/media/ScaleOut/vahldiek/MRI/SIJ/')\n",
    "loss_func = LabelSmoothingCrossEntropy"
   ]
  },
  {
   "cell_type": "code",
   "execution_count": 4,
   "metadata": {},
   "outputs": [],
   "source": [
    "train = False\n",
    "progressive_resizing = False\n",
    "export = False\n",
    "smaller_model = 'both_sequences_structural_changes_resnet101_3d_denoised_144px'\n",
    "class_weighted_loss = True\n",
    "n_stack_df_for_training = 1\n",
    "n_epoch = 100"
   ]
  },
  {
   "cell_type": "code",
   "execution_count": 5,
   "metadata": {},
   "outputs": [],
   "source": [
    "im_size = 192\n",
    "bs = 16\n",
    "accumulation = 64\n",
    "wd = 0.1\n",
    "lr_base = 0.001 * bs / 64\n",
    "p_tfms = .2\n",
    "temperature = 0.1"
   ]
  },
  {
   "cell_type": "code",
   "execution_count": 6,
   "metadata": {},
   "outputs": [],
   "source": [
    "model_fun = getattr(faimed3d.all, model_type)\n",
    "model_name = f'{sequence.lower()}_{label}_{model_type}_denoised' if isinstance(sequence, str) else f'both_sequences_{label}_{model_type}_denoised_{im_size}px'\n",
    "model_name = model_name"
   ]
  },
  {
   "cell_type": "code",
   "execution_count": 26,
   "metadata": {},
   "outputs": [
    {
     "data": {
      "text/plain": [
       "'both_sequences_active_changes_resnet101_3d_denoised_192px'"
      ]
     },
     "execution_count": 26,
     "metadata": {},
     "output_type": "execute_result"
    }
   ],
   "source": [
    "model_name"
   ]
  },
  {
   "cell_type": "markdown",
   "metadata": {},
   "source": [
    "## Construct DataLoader"
   ]
  },
  {
   "cell_type": "code",
   "execution_count": 7,
   "metadata": {},
   "outputs": [],
   "source": [
    "df = get_dataframe(denoised=True)\n",
    "if train: df = pd.concat([df]*n_stack_df_for_training)\n",
    "\n",
    "labels = df[label].unique()\n",
    "if len(labels[0]) < len(labels[1]):\n",
    "    pos_label, neg_label = labels\n",
    "else: \n",
    "    neg_label, pos_label = labels\n",
    "    \n",
    "df[label] = [0 if x == neg_label else 1 for x in df[label]]"
   ]
  },
  {
   "cell_type": "code",
   "execution_count": 8,
   "metadata": {},
   "outputs": [
    {
     "data": {
      "text/plain": [
       "('active_changes', 'no_active_changes')"
      ]
     },
     "execution_count": 8,
     "metadata": {},
     "output_type": "execute_result"
    }
   ],
   "source": [
    "pos_label, neg_label"
   ]
  },
  {
   "cell_type": "code",
   "execution_count": 9,
   "metadata": {},
   "outputs": [],
   "source": [
    "item_tfms = [\n",
    "        *TioTransforms(p_all = p_tfms), \n",
    "        TioRandomElasticDeformation(max_displacement = (2.5, 20, 20), p=p_tfms*2 if p_tfms < 0.5 else p_tfms), \n",
    "        RandomPerspective3D(im_size), \n",
    "        RandomBlur3D(p=p_tfms),\n",
    "        RandomNoise3D(p=p_tfms),\n",
    "        RandomWarp3D(p=p_tfms),\n",
    "        RandomBrightness3D(p=p_tfms),\n",
    "        RandomContrast3D(p=p_tfms),\n",
    "        *aug_transforms_3d(p_all = p_tfms),\n",
    "        RandomRotate3DBy(degrees=(0,0,45), p=p_tfms),\n",
    "        RandomFlip3D(p=0.5, axis = [2]),\n",
    "        RandomCrop3D((2, 10, 10), (1, 10, 10)), \n",
    "        Resize3D((16,im_size,im_size)), \n",
    "        ]"
   ]
  },
  {
   "cell_type": "code",
   "execution_count": 10,
   "metadata": {},
   "outputs": [],
   "source": [
    "dls = ImageDataLoaders3D.from_df(df, DATA_DIR, \n",
    "                               y_block = CategoryBlock(vocab={0:neg_label, \n",
    "                                                              1:pos_label}),\n",
    "                               fn_col = sequence,\n",
    "                               label_col = label,\n",
    "                               item_tfms = item_tfms,\n",
    "                               valid_col= 'is_valid', \n",
    "                               bs = bs)"
   ]
  },
  {
   "cell_type": "markdown",
   "metadata": {},
   "source": [
    "## Create Learner"
   ]
  },
  {
   "cell_type": "code",
   "execution_count": 11,
   "metadata": {},
   "outputs": [],
   "source": [
    "model = create_cnn_model_3d(\n",
    "    model_fun, \n",
    "    n_out = dls.c, \n",
    "    n_in = 1, \n",
    "    pretrained=True)"
   ]
  },
  {
   "cell_type": "code",
   "execution_count": 12,
   "metadata": {},
   "outputs": [],
   "source": [
    "model = SequentialModel(model) if isinstance(sequence, list) else model"
   ]
  },
  {
   "cell_type": "code",
   "execution_count": 13,
   "metadata": {},
   "outputs": [
    {
     "name": "stdout",
     "output_type": "stream",
     "text": [
      "0.4129979035639413 0.5870020964360587\n"
     ]
    }
   ],
   "source": [
    "pos_weight = 1-np.mean(df[label])\n",
    "neg_weight = 1-pos_weight\n",
    "print(neg_weight, pos_weight)\n",
    "loss_func = loss_func(weight=tensor(neg_weight, pos_weight).cuda()) if class_weighted_loss else loss_func()"
   ]
  },
  {
   "cell_type": "code",
   "execution_count": 21,
   "metadata": {},
   "outputs": [],
   "source": [
    "learn = Learner(dls, \n",
    "                model,\n",
    "                model_dir = '/home/bressekk/Documents/deep-spa-mri/models/',\n",
    "                loss_func =  loss_func,\n",
    "                metrics=[accuracy, \n",
    "                         F1Score(), \n",
    "                         RocAucBinary()], \n",
    "                cbs = [StackVolumes(), # concat volumes to single tensor to allow parallel training. Is again un-stacked in the models foward-fun\n",
    "                       SaveModelCallback('roc_auc_score', fname=model_name, with_opt=True), \n",
    "                       MixUp(), \n",
    "                       GradientClip(),\n",
    "                       GradientAccumulation(accumulation), \n",
    "                       EarlyStoppingCallback(patience = 20), \n",
    "                       ReduceLROnPlateau(patience=5, monitor='roc_auc_score', factor = 50),\n",
    "                      ]).to_fp16().to_parallel()"
   ]
  },
  {
   "cell_type": "markdown",
   "metadata": {},
   "source": [
    "## Train"
   ]
  },
  {
   "cell_type": "code",
   "execution_count": 22,
   "metadata": {},
   "outputs": [],
   "source": [
    "if train:\n",
    "    if progressive_resizing: \n",
    "        learn = learn.load(smaller_model)\n",
    "        learn.freeze()\n",
    "        learn.fit_one_cycle(2, lr_base, wd=wd)\n",
    "        \n",
    "    learn.unfreeze()\n",
    "    learn.fit_one_cycle(n_epoch, lr_base, wd = wd)"
   ]
  },
  {
   "cell_type": "code",
   "execution_count": 23,
   "metadata": {},
   "outputs": [],
   "source": [
    "if train: \n",
    "    learn.recorder.plot_loss()\n",
    "    plt.savefig(f'images/plot_losses_{model_name}.png', dpi=300, bbox_inches='tight')\n",
    "    torch.cuda.empty_cache()"
   ]
  },
  {
   "cell_type": "markdown",
   "metadata": {},
   "source": [
    "## Evaluation"
   ]
  },
  {
   "cell_type": "code",
   "execution_count": 25,
   "metadata": {},
   "outputs": [],
   "source": [
    "learn = learn.load(model_name)"
   ]
  },
  {
   "cell_type": "code",
   "execution_count": 52,
   "metadata": {
    "tags": []
   },
   "outputs": [
    {
     "data": {
      "text/html": [],
      "text/plain": [
       "<IPython.core.display.HTML object>"
      ]
     },
     "metadata": {},
     "output_type": "display_data"
    }
   ],
   "source": [
    "interp_valid = ClassificationInterpretation.from_learner(learn)"
   ]
  },
  {
   "cell_type": "code",
   "execution_count": 55,
   "metadata": {},
   "outputs": [
    {
     "data": {
      "image/png": "[encoded data removed]",
      "text/plain": [
       "<Figure size 432x288 with 1 Axes>"
      ]
     },
     "metadata": {
      "needs_background": "light"
     },
     "output_type": "display_data"
    }
   ],
   "source": [
    "interp_valid.plot_roc()"
   ]
  }
 ],
 "metadata": {
  "kernelspec": {
   "display_name": "faimed3d",
   "language": "python",
   "name": "faimed3d"
  },
  "language_info": {
   "codemirror_mode": {
    "name": "ipython",
    "version": 3
   },
   "file_extension": ".py",
   "mimetype": "text/x-python",
   "name": "python",
   "nbconvert_exporter": "python",
   "pygments_lexer": "ipython3",
   "version": "3.7.10"
  }
 },
 "nbformat": 4,
 "nbformat_minor": 5
}
